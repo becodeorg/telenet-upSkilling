{
 "cells": [
  {
   "cell_type": "markdown",
   "metadata": {},
   "source": [
    "# Playing with containers!\n",
    "\n",
    "![containers](./assets/container.gif)\n",
    "\n",
    "Now that we can create an image and run container, let's talk about our developpement workflow.\n",
    "\n",
    "## Goals\n",
    "In this module you will learn to:\n",
    "* Connect to a container with SSH\n",
    "* Give a name to you container\n",
    "* Connect a volume to your container\n",
    "* Know how to have a smooth workflow working with Docker\n",
    "\n",
    "## Workflow 1 - The basics\n",
    "So when you start with Docker and with only the knowledge you have now it will be:\n",
    "\n",
    "1. Create your Dockerfile\n",
    "2. Build your container\n",
    "3. Run a container\n",
    "4. See the ouput\n",
    "\n",
    "Great! But I'm afraid to tell you that at some point you will make mistake in your code, you will want to change you code, you will need additional dependencies.\n",
    "\n",
    "So how can you handle that? Let's see the workflow you will have when something go wrong in you code after running the container the first time.\n",
    "\n",
    "1. Try to figure it out where is the issue base on the container's ouput\n",
    "2. Fix the issue\n",
    "3. Re-build your image\n",
    "4. Re-run your container\n",
    "5. See if the issue is fixed\n",
    "\n",
    "That could works. But when you will start to add more depencies, add more files,... Your image will become way bigger. And only the building step could take you 30 minutes. (I experienced it, I can assure you that it happen fastly than you think...)\n",
    "\n",
    "So how to fix that to be more productive? With SSH!\n",
    "\n",
    "## Workflow 2 - With SSH (CLI)\n",
    "A container is running files on you computer right we copy our files in the container, don't we? So it should be a way of editing those files!\n",
    "\n",
    "Indeed! You can do it connecting to you container with SSH. A bit like if you were trying to connect to another computer.\n",
    "\n",
    "We will specify during the container's creation. We will kindly ask it to access the container's terminal instead of running a specific command.\n",
    "\n",
    "We can do that by changing a bit our `docker run` command.\n",
    "\n",
    "Build you container on you own terminal (not in a jupyter notebook) and try the following:\n",
    "\n",
    "```bash\n",
    "docker run -it hello:latest bash\n",
    "```\n",
    "\n",
    "Some explainations:\n",
    "* `-it hello:latest` We keep the -t to define the image's tag. But we also add `i` for **i**nteractive\n",
    "* `bash` to tell to our container that it should replace the command we defined in the Dockerfile with `CMD` with bash. `bash` is the terminal installed by default in the image. (as we used Ubuntu.)\n",
    "\n",
    "You should have an ouput like this:"
   ]
  },
  {
   "cell_type": "code",
   "execution_count": null,
   "metadata": {},
   "outputs": [
    {
     "name": "stdout",
     "output_type": "stream",
     "text": [
      "\u001b[Kroot@ebfde2be6a8a:/app# "
     ]
    }
   ],
   "source": [
    "!docker run -it hello:latest bash"
   ]
  },
  {
   "cell_type": "markdown",
   "metadata": {},
   "source": [
    "But yours should be interactive! You are now in the container's terminal. If you want to get our \n",
    "\n",
    "![terminal inception!](./assets/inception.gif)\n",
    "\n",
    "Now you can type all the command you can type in a bash terminal under ubuntu.\n",
    "* You bash check the files in your current dirrectory with `ls`\n",
    "* You can move around with `cd`\n",
    "* Run python file with `python`\n",
    "* ...\n",
    "\n",
    "Ok so, now we can install `vim` with `apt install vim` or use `nano` to edit files. Then we can run our files again and see the ouput without the need of re-building our image and re-run our container! \n",
    "\n",
    "Great, but using vim our nano is not really user friendly, and just exciting vim could be a nightmare you it's your first time!\n",
    "\n",
    "Don't worry, you can find more information about [how vim works here](https://www.linux.com/training-tutorials/vim-101-beginners-guide-vim/) and we will find a solution to use a real IDE in the next workflow!\n",
    "\n",
    "## Workflow 3 - VScode\n",
    "We can use VScode to connect to our container. \n",
    "You will be able to change your code in a friendly IDE and run command in the intefrated terminal!\n",
    "\n",
    "I made you a short gif to show the process:\n",
    "\n",
    "![How to ssh docker container with VSCODE](./assets/vs-code-ssh.gif)\n",
    "\n",
    "So that's the better workflow we can get right?\n",
    "\n",
    "Well, not exactly. Because it mean that each time you will exit the container, all you changes are gonna be lost... So you have to copy the changes in you local files but if you have made changes in 10 files it's a pain to see where are the differences and where you have to copy paste code...\n",
    "\n",
    "We will fix this problem in the next module with Docker volumes!"
   ]
  }
 ],
 "metadata": {
  "kernelspec": {
   "display_name": "Python 3",
   "language": "python",
   "name": "python3"
  },
  "language_info": {
   "codemirror_mode": {
    "name": "ipython",
    "version": 3
   },
   "file_extension": ".py",
   "mimetype": "text/x-python",
   "name": "python",
   "nbconvert_exporter": "python",
   "pygments_lexer": "ipython3",
   "version": "3.6.9"
  }
 },
 "nbformat": 4,
 "nbformat_minor": 4
}
