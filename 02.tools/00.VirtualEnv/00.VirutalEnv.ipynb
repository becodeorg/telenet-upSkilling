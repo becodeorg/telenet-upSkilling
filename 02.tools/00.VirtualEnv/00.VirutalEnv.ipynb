{
 "cells": [
  {
   "cell_type": "markdown",
   "metadata": {},
   "source": [
    "# VirtualEnv"
   ]
  },
  {
   "cell_type": "markdown",
   "metadata": {},
   "source": [
    "## What is VirtualEnv?\n",
    "VirtualEnv provide you separate python environement where you can install independently all your dependencies without having conflicts.\n",
    "\n",
    "## Why should I use it?\n",
    "Let's say that you want to use Flask, but for a first project you have to use an old version of it and a more recent the second one. You can't install both versions on the same enviroment. You will have conflicts and only the last installation will be kept. \n",
    "With VirtalEnv, you can create two (or more) python enviroments and install a different version of it."
   ]
  },
  {
   "cell_type": "markdown",
   "metadata": {},
   "source": [
    "## Installation\n",
    "To install it, you can simply use pip in the terminal.\n",
    "\n",
    "```bash\n",
    "pip install virtualenv\n",
    "```\n",
    "\n",
    "This command needs administrator privileges. Add sudo before pip on Linux/Mac OS. If you are on Windows, log in as Administrator. On Ubuntu virtualenv may be installed using its package manager.\n",
    "\n",
    "Example for Ubuntu/Debian:\n",
    "\n",
    "```bash\n",
    "sudo apt-get install virtualenv\n",
    "```"
   ]
  },
  {
   "cell_type": "markdown",
   "metadata": {},
   "source": [
    "## Usage"
   ]
  },
  {
   "cell_type": "markdown",
   "metadata": {},
   "source": [
    "When it will be installed, you can create a new enviroment and then activate it so you can use it.\n",
    "\n",
    "* To create a new one, type in you terminal:\n",
    "```bash\n",
    "virtualenv env\n",
    "```\n",
    "It will create it **in your current directory** and will be nammed **env** it's a convention but you can of course change the name if you'd like. Just think to use a transparent name so anyone can guess what it is.\n",
    "It's possible that your terminal doesn't recognize virtualenv. In this case, you can use python (as it's a python tool) as follow:|\n",
    "```bash\n",
    "python -m virtalenv env\n",
    "```\n",
    "\n",
    "* To activate it:\n",
    "```bash\n",
    "source env/bin/activate\n",
    "```\n",
    "\n",
    "If you chanhed the name (env) you have to change it in this command too.\n",
    "\n",
    "If you successfully activated the environemennt you should see it between parenthesis in your terminal. See screenshot below."
   ]
  },
  {
   "cell_type": "markdown",
   "metadata": {},
   "source": [
    "![virtualenv activated screenshot](assets/screen-virtualenv-activated.png\n",
    ")"
   ]
  },
  {
   "cell_type": "markdown",
   "metadata": {},
   "source": [
    "Now you should be all good! Congratulaion, you can now install any dependencies without caring of the conflicts. \n",
    "\n",
    "To install a depencies use `pip` even if you normally use `pip3`. Virtualenv rebind pip to suit your environement.\n",
    "\n",
    "## Check the dependencies installed in your enviroment\n",
    "To check which dependencies are installed, you can type:\n",
    "```bash\n",
    "pip freeze\n",
    "```\n",
    "\n",
    "And if you want to write thoses in a text file. (So you can easly install them back in a new enviroment afterward)\n",
    "You can use this command that will create a `requirements.txt` file and save the list of all you dependencies and versions of it in it.\n",
    "```bash\n",
    "pip freeze > requirements.txt\n",
    "```\n",
    "\n",
    "If you have to re-install them, you just have to do:\\\n",
    "```bash\n",
    "pip install -r requirements.txt\n",
    "```"
   ]
  },
  {
   "cell_type": "code",
   "execution_count": null,
   "metadata": {},
   "outputs": [],
   "source": []
  }
 ],
 "metadata": {
  "kernelspec": {
   "display_name": "Python 3",
   "language": "python",
   "name": "python3"
  },
  "language_info": {
   "codemirror_mode": {
    "name": "ipython",
    "version": 3
   },
   "file_extension": ".py",
   "mimetype": "text/x-python",
   "name": "python",
   "nbconvert_exporter": "python",
   "pygments_lexer": "ipython3",
   "version": "3.6.9"
  }
 },
 "nbformat": 4,
 "nbformat_minor": 4
}
