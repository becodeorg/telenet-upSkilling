{
 "cells": [
  {
   "cell_type": "markdown",
   "metadata": {},
   "source": [
    "# Pre-commit hooks\n",
    "![pre-commit cover](./assets/pre-commit.jpg)"
   ]
  },
  {
   "cell_type": "markdown",
   "metadata": {},
   "source": [
    "[Pre-commit](https://pre-commit.com/) hooks is a framework to manage your hooks that will run each time you will commit or push your code. (depending on how you set it)\n",
    "\n",
    "The pre-commit hook itself will do nothing. It's just framework to automate commands and use utils.\n",
    "We're gonna see some hanfy tools that we will couple with pre-commit hooks.\n",
    "\n",
    "## Modules that we will use\n",
    "### Black\n",
    "[Black](https://pypi.org/project/black/) is a formatter for python. It will format all your code each time you commit/push following the PEP8 standart.\n",
    "\n",
    "### MyPy\n",
    "[MyPy](http://mypy-lang.org/) will check all your code to see if there is any typing issues.\n",
    "\n",
    "### Flake8\n",
    "[Flake8](https://medium.com/python-pandemonium/what-is-flake8-and-why-we-should-use-it-b89bd78073f2) will check if you forgot to add  docstring to your functions  and classes, if you use the correct cases in your variables/functions/classes, if you forgot to import a module that you're using, if there is unsed import,...\n",
    "Flake8  is in fact a wrapper of these tools in one command:\n",
    "* PyFlakes\n",
    "* pycodestyle\n",
    "* Ned Batchelder’s McCabe script\n",
    "\n",
    "### Isort\n",
    "[Isort](https://pypi.org/project/isort/) is an utils that will sort your imports in a way that make sense and  that is optimized.\n",
    "\n",
    "### And so much more\n",
    "But that's not all! You can find a lot of other modules or even create your own!\n",
    "You can for example add a step to check if there is no files bigger than X or if the branch name respect a convention,...\n",
    "\n",
    "\n",
    "## Why using these tools?\n",
    "It will  make you gain a lot of time during PR and I recomnand you to run it before launching all your tests. It will avoid you to run test that take a while to run to discover, during the last test that you forgot an import in a file. Or simply improve  you code's speed because you're sure that there is no module imported when you don't use it. The formating will also improve a lot the readibilty of your code and that's something that you can totally forget to focus on the most import thing: fixing your business problem and not check if you haven't forgot to type all the functions or to add  a space after a parenthesis. "
   ]
  },
  {
   "cell_type": "markdown",
   "metadata": {},
   "source": [
    "## How does it works?\n",
    "1. **Installation and dependencies**\n",
    "First, we will need to install pre-commit from the terminal. You can use pip to do it.\n",
    "\n",
    "```bash\n",
    "pip install pre-commit\n",
    "```\n",
    "\n",
    "You will also need to install all the modules that we want to use. \n",
    "\n",
    "```bash\n",
    "pip install black mypy isort flake8\n",
    "```\n",
    "\n",
    "2. **Configuration**\n",
    "Now we will define the behavior of pre-commit. To do so, we need to create a yaml file and specify what do we expect.\n",
    "The file should be nammed `.pre-commit-config.yaml`. A basic configuration for what we want will be:\n",
    "\n",
    "```yaml\n",
    "repos:\n",
    "-   repo: local\n",
    "    hooks:\n",
    "    - id: isort\n",
    "      name: isort\n",
    "      description: 'Sort imports'\n",
    "      entry: isort\n",
    "      language: system\n",
    "      types: [python]\n",
    "      # We defined that we want to run this step when we try to commit.\n",
    "      # If you want to apply it before push juste replace commit with push.\n",
    "      stages: [commit]\n",
    "      # Add all the arguments you want to the Isort command here\n",
    "      # Make sure to make it compatible with black\n",
    "      args: \n",
    "        - -rc\n",
    "        - --lines=120\n",
    "        - --use-parentheses\n",
    "        - --multi-line=3\n",
    "    - id: black\n",
    "      name: black\n",
    "      language: system\n",
    "      description: 'Format code'\n",
    "      entry: black\n",
    "      types: [python]\n",
    "      args:\n",
    "        - --line-length=122\n",
    "    - id: flake8\n",
    "      name: flake8\n",
    "      description: 'Check logic issues'\n",
    "      language: system\n",
    "      entry: flake8\n",
    "      types: [python]\n",
    " \n",
    "    - id: mypy\n",
    "      name: mypy\n",
    "      description: 'Check typing'\n",
    "      language: system\n",
    "      entry: mypy\n",
    "      types: [python]\n",
    "```"
   ]
  },
  {
   "cell_type": "markdown",
   "metadata": {},
   "source": [
    "## Demo\n",
    "Everything is ready, let's see how does it works now!\n",
    "\n",
    "To demonstrate how does it works, I prepared some files that contain some errors and we will see how to fix them.\n",
    "\n",
    "**WARNING:** As these modules are gonna fix the issues, you will not be able to re-run this notebook twice and see the errors again."
   ]
  },
  {
   "cell_type": "markdown",
   "metadata": {},
   "source": [
    "### Black\n",
    "![black logo](./assets/black.jpg)\n",
    "The file `bad_fomrating.py` was wrote by a programmer that was super hungry. So he didn't took the time to properly format his code. Let's have a look:"
   ]
  },
  {
   "cell_type": "code",
   "execution_count": 12,
   "metadata": {},
   "outputs": [
    {
     "name": "stdout",
     "output_type": "stream",
     "text": [
      "# Damn, I am super hungry. Let's rush that code asap!\n",
      "def   addition    (a=1,b=3):\n",
      "  result=a+b\n",
      "  return f\"result is \"    +str(result )\n",
      "\n",
      "print(addition(1,2))\n"
     ]
    }
   ],
   "source": [
    "!cat code/bad_formating.py"
   ]
  },
  {
   "cell_type": "markdown",
   "metadata": {},
   "source": [
    "Uggly right? Even if it's really badly formatted, the code run:"
   ]
  },
  {
   "cell_type": "code",
   "execution_count": 8,
   "metadata": {},
   "outputs": [
    {
     "name": "stdout",
     "output_type": "stream",
     "text": [
      "result is 3\n"
     ]
    }
   ],
   "source": [
    "!python3 code/bad_formating.py"
   ]
  },
  {
   "cell_type": "markdown",
   "metadata": {},
   "source": [
    "If you're curious and you want to see how black will reformat a file before writing your can do:\n",
    "\n",
    "*(it will only show you what it plan to do without wrinting on the file)*"
   ]
  },
  {
   "cell_type": "code",
   "execution_count": 17,
   "metadata": {},
   "outputs": [
    {
     "name": "stdout",
     "output_type": "stream",
     "text": [
      "\u001b[1mwould reformat code/bad_formating.py\u001b[0m\n",
      "\u001b[1mAll done! ✨ 🍰 ✨\u001b[0m\n",
      "\u001b[1m1 file would be reformatted\u001b[0m.\u001b[0m\n",
      "\u001b[1;37m--- code/bad_formating.py\t2020-08-27 13:55:57.241139 +0000\u001b[0m\n",
      "\u001b[1;37m+++ code/bad_formating.py\t2020-08-27 13:57:39.563537 +0000\u001b[0m\n",
      "\u001b[36m@@ -1,6 +1,7 @@\u001b[0m\n",
      " # Damn, I am super hungry. Let's rush that code asap!\n",
      "\u001b[31m-def   addition    (a=1,b=3):\u001b[0m\n",
      "\u001b[31m-  result=a+b\u001b[0m\n",
      "\u001b[31m-  return f\"result is \"    +str(result )\u001b[0m\n",
      "\u001b[32m+def addition(a=1, b=3):\u001b[0m\n",
      "\u001b[32m+    result = a + b\u001b[0m\n",
      "\u001b[32m+    return f\"result is \" + str(result)\u001b[0m\n",
      " \n",
      "\u001b[31m-print(addition(1,2))\u001b[0m\n",
      "\u001b[32m+\u001b[0m\n",
      "\u001b[32m+print(addition(1, 2))\u001b[0m\n"
     ]
    }
   ],
   "source": [
    "!black --color --diff code/bad_formating.py"
   ]
  },
  {
   "cell_type": "markdown",
   "metadata": {},
   "source": [
    "Let's fix that before our eyes burn. We will use direcly black in the terminal.\n",
    "Now that black is installed, you can simply use the `black` command followed by the path of the file/folder that you want to check. When we will  run the pre-commit hook it will run `black .` to formatted everything that is inside the current folder."
   ]
  },
  {
   "cell_type": "code",
   "execution_count": 13,
   "metadata": {},
   "outputs": [
    {
     "name": "stdout",
     "output_type": "stream",
     "text": [
      "\u001b[1mreformatted code/bad_formating.py\u001b[0m\n",
      "\u001b[1mAll done! ✨ 🍰 ✨\u001b[0m\n",
      "\u001b[1m1 file reformatted\u001b[0m.\u001b[0m\n"
     ]
    }
   ],
   "source": [
    "!black code/bad_formating.py"
   ]
  },
  {
   "cell_type": "markdown",
   "metadata": {},
   "source": [
    "Black reformatted the file. Let's see how  did it saved the day:"
   ]
  },
  {
   "cell_type": "code",
   "execution_count": 14,
   "metadata": {},
   "outputs": [
    {
     "name": "stdout",
     "output_type": "stream",
     "text": [
      "# Damn, I am super hungry. Let's rush that code asap!\n",
      "def addition(a=1, b=3):\n",
      "    result = a + b\n",
      "    return f\"result is \" + str(result)\n",
      "\n",
      "\n",
      "print(addition(1, 2))\n"
     ]
    }
   ],
   "source": [
    "!cat ./code/bad_formating.py"
   ]
  },
  {
   "cell_type": "markdown",
   "metadata": {},
   "source": [
    "As we can see, everything is well formatted now."
   ]
  },
  {
   "cell_type": "markdown",
   "metadata": {},
   "source": [
    "### MyPy\n",
    "\n",
    "![mypy logo](./assets/mypy.png)\n",
    "\n",
    "The file `missing_annotation.py` was wrote by the new intern of the company. He **ALWAYS** forget to add typing on **EACH** pull request.\n",
    "You're more then tired to copy paste \"Please add typing here.\". You also see that he often forget to add returns in case these confitions aren't true. Let's check this guy's code:"
   ]
  },
  {
   "cell_type": "code",
   "execution_count": 18,
   "metadata": {},
   "outputs": [
    {
     "name": "stdout",
     "output_type": "stream",
     "text": [
      "def divide(a: int,  b) -> int:\n",
      "    if b != 0:\n",
      "        return a / b"
     ]
    }
   ],
   "source": [
    "!cat ./code/missing_annotation.py"
   ]
  },
  {
   "cell_type": "markdown",
   "metadata": {},
   "source": [
    "To help him to fix these issues without needing to use more your already too used C and  V keys, you make him run mypy:"
   ]
  },
  {
   "cell_type": "code",
   "execution_count": 20,
   "metadata": {},
   "outputs": [
    {
     "name": "stdout",
     "output_type": "stream",
     "text": [
      "code/missing_annotation.py:1: \u001b[1m\u001b[31merror:\u001b[m Function is missing a type annotation for one or more arguments\u001b[m\n",
      "code/missing_annotation.py:1: \u001b[1m\u001b[31merror:\u001b[m Missing return statement\u001b[m\n",
      "code/missing_annotation.py:3: \u001b[1m\u001b[31merror:\u001b[m Returning Any from function declared to return \u001b[m\u001b[1m\"int\"\u001b[m\u001b[m\n",
      "\u001b[1m\u001b[31mFound 3 errors in 1 file (checked 1 source file)\u001b[m\n"
     ]
    }
   ],
   "source": [
    "!mypy --strict ./code/missing_annotation.py"
   ]
  },
  {
   "cell_type": "markdown",
   "metadata": {},
   "source": [
    "Thanks to you he's now able to fix his code by himself. Let's see the improvements:"
   ]
  },
  {
   "cell_type": "code",
   "execution_count": 23,
   "metadata": {},
   "outputs": [
    {
     "name": "stdout",
     "output_type": "stream",
     "text": [
      "from typing import Union\n",
      "\n",
      "def divide(a: int,  b: int) -> Union[float, str]:\n",
      "    if b != 0:\n",
      "        return float(a / b)\n",
      "    else:\n",
      "        return \"Can't divide by zero. Please change the value of b.\""
     ]
    }
   ],
   "source": [
    "!cat ./code/fixed_annotation.py"
   ]
  },
  {
   "cell_type": "markdown",
   "metadata": {},
   "source": [
    "Look better right? Let's see if there is still any issues with this code."
   ]
  },
  {
   "cell_type": "code",
   "execution_count": 24,
   "metadata": {},
   "outputs": [
    {
     "name": "stdout",
     "output_type": "stream",
     "text": [
      "\u001b[1m\u001b[32mSuccess: no issues found in 1 source file\u001b[m\n"
     ]
    }
   ],
   "source": [
    "!mypy --strict ./code/fixed_annotation.py"
   ]
  },
  {
   "cell_type": "markdown",
   "metadata": {},
   "source": [
    "Perfect, you just won hours of PR review you can now focus on you own work!"
   ]
  },
  {
   "cell_type": "markdown",
   "metadata": {},
   "source": [
    "## Flake8\n",
    "\n",
    "You finnaly take a well deserved weak of vacation on a beautiful beach. When you comeback at work, you PM tell you that during your rest they refactor all the codebase of you project. You suspiciously run you performents test and you find that the code is way slower than it should. You  also see that a lot of you unit-test doesn't run anymore.\n",
    "\n",
    "You just came back and you don't want to spend hours an code review. So the first thing you will do is runnng flake8 during this time you grab a cofee, ready to fight this code! It won't fix the issue  for you but at least you know where to start.\n",
    "\n",
    "Let's have  a look at the code:"
   ]
  },
  {
   "cell_type": "code",
   "execution_count": 27,
   "metadata": {},
   "outputs": [
    {
     "name": "stdout",
     "output_type": "stream",
     "text": [
      "\"\"\"Hey Jonh, I hope you enjoyed your vacations. There is some issues with this code. Welcome back!\"\"\"\n",
      "import subprocess\n",
      "\n",
      "def divide(a: int,  b: int) -> Union[float, str]:\n",
      "    if b != 0:\n",
      "        return float(a / b)\n",
      "    else:\n",
      "        return \"Can't divide by zero. Please change the value of b.\"\n",
      "\n",
      "\n",
      "def addition(a:  int, b: int) -> int:\n",
      "    result = a + b\n",
      "    return f\"result is {str(result)}\"\n",
      "\n",
      "def just_another_function(a: int) -> float:\n",
      "    return a * math.pi"
     ]
    }
   ],
   "source": [
    "!cat ./code/refactored_code.py"
   ]
  },
  {
   "cell_type": "markdown",
   "metadata": {},
   "source": [
    "Let's see how much issues MyPy can find!"
   ]
  },
  {
   "cell_type": "code",
   "execution_count": 28,
   "metadata": {},
   "outputs": [
    {
     "name": "stdout",
     "output_type": "stream",
     "text": [
      "code/refactored_code.py:4: \u001b[1m\u001b[31merror:\u001b[m Name 'Union' is not defined\u001b[m\n",
      "code/refactored_code.py:4: \u001b[34mnote:\u001b[m Did you forget to import it from \"typing\"? (Suggestion: \"from typing import Union\")\n",
      "code/refactored_code.py:13: \u001b[1m\u001b[31merror:\u001b[m Incompatible return value type (got \u001b[m\u001b[1m\"str\"\u001b[m, expected \u001b[m\u001b[1m\"int\"\u001b[m)\u001b[m\n",
      "code/refactored_code.py:16: \u001b[1m\u001b[31merror:\u001b[m Name 'math' is not defined\u001b[m\n",
      "\u001b[1m\u001b[31mFound 3 errors in 1 file (checked 1 source file)\u001b[m\n"
     ]
    }
   ],
   "source": [
    "!mypy ./code/refactored_code.py"
   ]
  },
  {
   "cell_type": "markdown",
   "metadata": {},
   "source": [
    "You cofee is ready, you didn't touched a keyboard for more than 1 week now, you fix the code is easly thanks to mypy."
   ]
  },
  {
   "cell_type": "code",
   "execution_count": 29,
   "metadata": {},
   "outputs": [
    {
     "name": "stdout",
     "output_type": "stream",
     "text": [
      "\"\"\"Hey Jonh, I hope you enjoyed your vacations. There is some issues with this code. Welcome back!\"\"\"\n",
      "from typing import Union\n",
      "import math\n",
      "\n",
      "def divide(a: int,  b: int) -> Union[float, str]:\n",
      "    if b != 0:\n",
      "        return float(a / b)\n",
      "    else:\n",
      "        return \"Can't divide by zero. Please change the value of b.\"\n",
      "\n",
      "\n",
      "def addition(a:  int, b: int) -> str:\n",
      "    result = a + b\n",
      "    return f\"result is {str(result)}\"\n",
      "\n",
      "def just_another_function(a: int) -> float:\n",
      "    return a * math.pi"
     ]
    }
   ],
   "source": [
    "!cat ./code/refactored_refactored_code.py"
   ]
  },
  {
   "cell_type": "code",
   "execution_count": 30,
   "metadata": {},
   "outputs": [
    {
     "name": "stdout",
     "output_type": "stream",
     "text": [
      "\u001b[1m\u001b[32mSuccess: no issues found in 1 source file\u001b[m\n"
     ]
    }
   ],
   "source": [
    "!mypy ./code/refactored_refactored_code.py"
   ]
  },
  {
   "cell_type": "markdown",
   "metadata": {},
   "source": [
    "Nohing to add, you're simply the best. You haven't finished you cup of coffee that you're code is running again."
   ]
  },
  {
   "cell_type": "markdown",
   "metadata": {},
   "source": [
    "##  Isort\n",
    "![isort logo](./assets/isort.jpg)\n",
    "\n",
    "You work on a project that have a lot of imports and it's not really lisible. When you have to find a function that is imported from your own file it's hard to find... Let's order that!"
   ]
  },
  {
   "cell_type": "code",
   "execution_count": 36,
   "metadata": {},
   "outputs": [
    {
     "name": "stdout",
     "output_type": "stream",
     "text": [
      "import math\n",
      "from typing import Union\n",
      "import subprocess\n",
      "from refactored_refactored_code import addition\n",
      "import statistics\n",
      "from typing import Dict\n",
      "import time\n",
      "import date\n",
      "from code.fixed_annotation import divide"
     ]
    }
   ],
   "source": [
    "!cat ./code/unsorted_import.py"
   ]
  },
  {
   "cell_type": "code",
   "execution_count": 37,
   "metadata": {},
   "outputs": [
    {
     "name": "stdout",
     "output_type": "stream",
     "text": [
      "Fixing /mnt/c/Users/maxim/code/becode/Python-Upskilling/I-O/02.Pre_commit_hook/code/unsorted_import.py\n",
      "\u001b[0m"
     ]
    }
   ],
   "source": [
    "!isort ./code/unsorted_import.py"
   ]
  },
  {
   "cell_type": "code",
   "execution_count": 38,
   "metadata": {},
   "outputs": [
    {
     "name": "stdout",
     "output_type": "stream",
     "text": [
      "import math\n",
      "import statistics\n",
      "import subprocess\n",
      "import time\n",
      "from code.fixed_annotation import divide\n",
      "from typing import Dict, Union\n",
      "\n",
      "import date\n",
      "from refactored_refactored_code import addition\n"
     ]
    }
   ],
   "source": [
    "!cat ./code/unsorted_import.py"
   ]
  },
  {
   "cell_type": "markdown",
   "metadata": {},
   "source": [
    "## All in one\n",
    "Perfect! but it's a lot to do mannualy, isn't it? That's where pre-commit hooks are gonna save us a **lot** of time!\n",
    "\n",
    "We defined that we wanted to use all the precedents tools and  how in our `.pre-commit-config.yaml`. So you juste have to run the command: `pre-commit run --all` in order to run all those tools on the complete current folder. or `pre-commit run --files <your_files>` to only run it on certain files."
   ]
  },
  {
   "cell_type": "code",
   "execution_count": 47,
   "metadata": {},
   "outputs": [
    {
     "name": "stdout",
     "output_type": "stream",
     "text": [
      "isort....................................................................\u001b[42mPassed\u001b[m\n",
      "black....................................................................\u001b[42mPassed\u001b[m\n",
      "flake8...................................................................\u001b[42mPassed\u001b[m\n",
      "mypy.....................................................................\u001b[42mPassed\u001b[m\n"
     ]
    }
   ],
   "source": [
    "!pre-commit run --files ./code/fixed_annotation.py"
   ]
  },
  {
   "cell_type": "markdown",
   "metadata": {},
   "source": [
    "Everything is fine, the commit or the push can be done safely. Let's see if something is wrong:"
   ]
  },
  {
   "cell_type": "code",
   "execution_count": 48,
   "metadata": {},
   "outputs": [
    {
     "name": "stdout",
     "output_type": "stream",
     "text": [
      "isort....................................................................\u001b[42mPassed\u001b[m\n",
      "black....................................................................\u001b[42mPassed\u001b[m\n",
      "flake8...................................................................\u001b[41mFailed\u001b[m\n",
      "\u001b[2m- hook id: flake8\u001b[m\n",
      "\u001b[2m- exit code: 1\u001b[m\n",
      "\n",
      "I-O/02.Pre_commit_hook/code/refactored_code.py:1:80: E501 line too long (101 > 79 characters)\n",
      "I-O/02.Pre_commit_hook/code/refactored_code.py:2:1: F401 'subprocess' imported but unused\n",
      "I-O/02.Pre_commit_hook/code/refactored_code.py:5:31: F821 undefined name 'Union'\n",
      "I-O/02.Pre_commit_hook/code/refactored_code.py:18:16: F821 undefined name 'math'\n",
      "\n",
      "mypy.....................................................................\u001b[41mFailed\u001b[m\n",
      "\u001b[2m- hook id: mypy\u001b[m\n",
      "\u001b[2m- exit code: 1\u001b[m\n",
      "\n",
      "I-O/02.Pre_commit_hook/code/refactored_code.py:5: \u001b[1m\u001b[31merror:\u001b[m Name 'Union' is not defined\u001b[m\n",
      "I-O/02.Pre_commit_hook/code/refactored_code.py:5: \u001b[34mnote:\u001b[m Did you forget to import it from \"typing\"? (Suggestion: \"from typing import Union\")\n",
      "I-O/02.Pre_commit_hook/code/refactored_code.py:14: \u001b[1m\u001b[31merror:\u001b[m Incompatible return value type (got \u001b[m\u001b[1m\"str\"\u001b[m, expected \u001b[m\u001b[1m\"int\"\u001b[m)\u001b[m\n",
      "I-O/02.Pre_commit_hook/code/refactored_code.py:18: \u001b[1m\u001b[31merror:\u001b[m Name 'math' is not defined\u001b[m\n",
      "\u001b[1m\u001b[31mFound 3 errors in 1 file (checked 1 source file)\u001b[m\n",
      "\n"
     ]
    }
   ],
   "source": [
    "!pre-commit run --files ./code/refactored_code.py"
   ]
  },
  {
   "cell_type": "markdown",
   "metadata": {},
   "source": [
    "## Automatise the process\n",
    "If we don't won't to run it each time before commit we can simple install it and it wil run on each commit or push depending on the config. If everything pass, the commit/push will be done. If there is issues, it will be canceled. You can of course change everything depending on your needs. Only apply it on merge, add or remove modules,...\n",
    "\n",
    "## You turn!\n",
    "Alright, you have all the keys to have a cleaner code and to lose less time!"
   ]
  },
  {
   "cell_type": "markdown",
   "metadata": {},
   "source": [
    "![gif about time](./assets/time.gif \"segment\")"
   ]
  }
 ],
 "metadata": {
  "kernelspec": {
   "display_name": "Python 3",
   "language": "python",
   "name": "python3"
  },
  "language_info": {
   "codemirror_mode": {
    "name": "ipython",
    "version": 3
   },
   "file_extension": ".py",
   "mimetype": "text/x-python",
   "name": "python",
   "nbconvert_exporter": "python",
   "pygments_lexer": "ipython3",
   "version": "3.6.9"
  }
 },
 "nbformat": 4,
 "nbformat_minor": 4
}
