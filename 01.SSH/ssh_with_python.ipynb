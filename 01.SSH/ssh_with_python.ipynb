{
 "cells": [
  {
   "cell_type": "markdown",
   "metadata": {},
   "source": [
    "# SSH with python\n",
    "\n",
    "![ssh with python](./assets/ssh-python.JPG)\n",
    "\n",
    "## Introduction\n",
    "It's also possible to connect with SSH to a server and to perform actions with python. It become really  handy when we want to automate deployment, to perform speficactions on a server,...\n",
    "\n",
    "## Requirements\n",
    "We will need single python library:\n",
    "* [paramiko](https://www.paramiko.org/)\n",
    "\n",
    "Let's install it!\n",
    "```bash\n",
    "pip install paramiko\n",
    "```\n",
    "\n",
    "## What can we do with it?\n",
    "Basicly everything that we can do when we're connection with SSH to a server.\n",
    "Paramiko will help us to connect to the machine and then python's subprocess can perform any bash command and get the ouput back in python.\n",
    "\n",
    "## Goal\n",
    "Our goal will be: \n",
    "* Connect a server with python.\n",
    "* Execute a bash command on it.\n",
    "* Get the output back and print it.\n",
    "* Creating a usefull script with our new knowledge."
   ]
  },
  {
   "cell_type": "markdown",
   "metadata": {},
   "source": [
    "## Code it!\n",
    "Let's dive in the code. Now that you have installed paramiko, we will connect to a server."
   ]
  },
  {
   "cell_type": "code",
   "execution_count": 2,
   "metadata": {},
   "outputs": [],
   "source": [
    "import paramiko\n",
    "from typing import List, Union\n",
    "\n",
    "def run_command_on_ssh_server(host: str, user: str, password: str, command: str) -> Union[List[str], str]:\n",
    "    \"\"\"\n",
    "    Function that will connect through SSH to a server, execute a command and return  the ouput.\n",
    "\n",
    "    :param host: A string that contain the server's hostname (or IP adress).\n",
    "    :param user: A string that containe the server's user that want to connect to.\n",
    "    :param password: A string that contain the user's password.\n",
    "    :param command: A string that contain the comnmand you want to execute.\n",
    "    :return: A list of string with the ouput.\n",
    "    \"\"\"\n",
    "    try:\n",
    "        # Print some informations about what we're gonna do.\n",
    "        print(f\"SSH - Connecting to host: {host} with user: {user} and password: {password} to run command: {command}\")\n",
    "        # Initiate the SSH  client\n",
    "        client = paramiko.SSHClient()\n",
    "        # Load all the local SSH key to avoid issues and be able to connect on private hosts\n",
    "        client.load_system_host_keys()\n",
    "        # Connect to host\n",
    "        client.connect(host, username=user, password=password)\n",
    "        # Execute command and  get output\n",
    "        _, stdout, stderr = client.exec_command(command)\n",
    "        # Convert ouput to text format\n",
    "        r_out, r_err = stdout.readlines(), stderr.read()\n",
    "        # Get the error if there is, else return the command's ouput\n",
    "        ouput = r_err if r_err else r_out \n",
    "        # Close the SSH connection\n",
    "        client.close()\n",
    "        return ouput\n",
    "    # Handle errors if the host is not up\n",
    "    except IOError:\n",
    "        return \"host not up...\"\n",
    "    except Exception  as ex:\n",
    "        return f\"Exception occured: {ex}\"\n",
    "        "
   ]
  },
  {
   "cell_type": "code",
   "execution_count": null,
   "metadata": {},
   "outputs": [],
   "source": [
    "output = run_command_on_ssh_server(\"192.168.0.15\", \"telenet\", \"telenet\", \"ls\")\n",
    "\n",
    "for item in ouput:\n",
    "    print(item)"
   ]
  },
  {
   "cell_type": "code",
   "execution_count": 3,
   "metadata": {},
   "outputs": [
    {
     "name": "stdout",
     "output_type": "stream",
     "text": [
      "hello\n"
     ]
    }
   ],
   "source": [
    "print(\"hello\")"
   ]
  },
  {
   "cell_type": "markdown",
   "metadata": {},
   "source": [
    "## Exercice\n",
    "At becode we used this function to hide our super secret admin password.\n",
    "To hide it, we used this snipped of code to generate a lot of directory with a UUI in the name  to make it random and we created a text file  in it:"
   ]
  },
  {
   "cell_type": "code",
   "execution_count": null,
   "metadata": {},
   "outputs": [],
   "source": [
    "from uuid import uuid4\n",
    "\n",
    "for i in range(50):\n",
    "        uuid = uuid4()\n",
    "        run_command_on_ssh_server(\n",
    "            \"192.168.0.20\", \"becode\", \n",
    "            \"learning\",  \n",
    "            f\" mkdir password_{uuid};  cd password_{uuid};  touch password_secret.txt;   echo 'Nothing here' > password_secret.txt;   cd ..;\"\n",
    "        )"
   ]
  },
  {
   "cell_type": "markdown",
   "metadata": {},
   "source": [
    "\n",
    "They all contain \"Nothing here\" except one! In this single there, there is our password.\n",
    "\n",
    "Do you think that with you new skills you will be able to crack our super security?"
   ]
  },
  {
   "cell_type": "markdown",
   "metadata": {},
   "source": [
    "## Solution"
   ]
  },
  {
   "cell_type": "code",
   "execution_count": null,
   "metadata": {},
   "outputs": [],
   "source": [
    "# Code here..."
   ]
  }
 ],
 "metadata": {
  "kernelspec": {
   "display_name": "Python 3",
   "language": "python",
   "name": "python3"
  },
  "language_info": {
   "codemirror_mode": {
    "name": "ipython",
    "version": 3
   },
   "file_extension": ".py",
   "mimetype": "text/x-python",
   "name": "python",
   "nbconvert_exporter": "python",
   "pygments_lexer": "ipython3",
   "version": "3.6.9"
  }
 },
 "nbformat": 4,
 "nbformat_minor": 4
}
