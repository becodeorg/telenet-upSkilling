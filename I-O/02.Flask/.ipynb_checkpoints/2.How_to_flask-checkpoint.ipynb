{
 "cells": [
  {
   "cell_type": "markdown",
   "metadata": {},
   "source": [
    "# Flask\n",
    "![Flask icon](assets/flask-icon.png)"
   ]
  },
  {
   "cell_type": "markdown",
   "metadata": {},
   "source": [
    "##  What is flask?\n",
    "Flask is a python library used to create easy API.\n",
    "To know more about API: https://www.howtogeek.com/343877/what-is-an-api/\n",
    "\n",
    "\n",
    "## Production\n",
    "Flask is not designed to be used in production as it is. You can easly run your file for developpment purpose. But when it come to production, there is additionnals steps that need to ne performed.\n",
    "You will need to use Gunicorn/NGX for example.\n",
    "\n",
    "To know more about it:\n",
    "* [See the Flask official documentation](https://flask.palletsprojects.com/en/1.1.x/tutorial/deploy/)\n",
    "* [More details about why you shouldn't deploy only with Flask](https://vsupalov.com/flask-web-server-in-production/)\n",
    "* [More informations about Gunicorn and how to set up your production server](http://trigonaminima.github.io/2020/05/flask-prod/)"
   ]
  },
  {
   "cell_type": "markdown",
   "metadata": {},
   "source": [
    "## Installation"
   ]
  },
  {
   "cell_type": "markdown",
   "metadata": {},
   "source": [
    "Create a new environement with virtualenv (see `00.Virtualenv`) and activate it.\n",
    "\n",
    "Then install the last Flask version from your terminal:\n",
    "\n",
    "```bash\n",
    "pip install Flask\n",
    "```"
   ]
  },
  {
   "cell_type": "markdown",
   "metadata": {},
   "source": [
    "## You first API"
   ]
  },
  {
   "cell_type": "markdown",
   "metadata": {},
   "source": [
    "Let's create our first API. \n",
    "We will import the Flask class from the flask module. Then we will create an instance of it.\n",
    "\n",
    "Our app is now created. Let's define our routes! \n",
    "\n",
    "Routes are an URL that will handle HTTP requests with or without data and get data back.\n",
    "\n",
    "There is multiple kind of requests, we will see two during this course but you definitly should look at all of them and to what is a REST API. \n",
    "Here is some documentation:\n",
    "* [What is a rest API](https://restfulapi.net/)\n",
    "* [All the http request you should know](https://www.tutorialspoint.com/http/http_requests.htm)\n",
    "\n",
    "We will mainly use **GET** and **POST** request.\n",
    "\n",
    "Let's start with a simple **GET** requestion on the adresse `/`.\n",
    "We are gonna return \"hello world\". It mean that each http request with the **GET** method will return the string \"Hello world\".\n",
    "\n",
    "So we create a function with the decorator `app.route()` and define the first agrument with URL we want put the route.\n",
    "\n",
    "Our route is ready, let's run our app!\n",
    "\n",
    "To do so, we will use the condition\n",
    "```python\n",
    "if __name__ == '__main__':\n",
    "```\n",
    "\n",
    "It will ensure that the app will only run if we run this specific file. If we import a function from the file for example, python will run the entire file and we don't want it to launch the app.\n",
    "\n",
    "Under this condition we can simply call the app's run method.\n",
    "\n",
    "The app will start listening to http requests on port 5000 by default. You can, of course, change the port if you wnat. To do so, add the port parameter in the run method. \n",
    "\n",
    "You can now create a file called `hello_world.py` with the folowing code to try it youself."
   ]
  },
  {
   "cell_type": "code",
   "execution_count": null,
   "metadata": {},
   "outputs": [],
   "source": [
    "from flask import Flask\n",
    "\n",
    "app = Flask(__name__)\n",
    "\n",
    "@app.route('/')\n",
    "def home():\n",
    "   return 'Hello World'\n",
    "\n",
    "if __name__ == '__main__':\n",
    "   app.run(port=5000)"
   ]
  },
  {
   "cell_type": "markdown",
   "metadata": {},
   "source": [
    "If you run the Hello.py script in Python shell you will be able to see under the localshost:5000 address a \"Hello World\" message."
   ]
  },
  {
   "cell_type": "markdown",
   "metadata": {},
   "source": [
    "**Pro tips:** You can also take advantage of the run argument's method to change the host (which is localhost by default). You can [learn more about it here](https://www.tutorialspoint.com/flask/flask_application.htm)."
   ]
  },
  {
   "cell_type": "markdown",
   "metadata": {},
   "source": [
    "Now, let's play a little bit around with it. Let's add one more function in our Hello.py file."
   ]
  },
  {
   "cell_type": "code",
   "execution_count": null,
   "metadata": {},
   "outputs": [],
   "source": [
    "from flask import Flask\n",
    "app = Flask(__name__)\n",
    "\n",
    "\n",
    "@app.route('/')\n",
    "def home():\n",
    "   return 'Hello World'\n",
    "\n",
    "@app.route('/<name>')\n",
    "def user(name):\n",
    "    return f\"Hello {name}!\"\n",
    "\n",
    "if __name__ == '__main__':\n",
    "   app.run()"
   ]
  },
  {
   "cell_type": "markdown",
   "metadata": {},
   "source": [
    "**Caution** : The above command requires to have Python 3.6.x and up"
   ]
  },
  {
   "cell_type": "markdown",
   "metadata": {},
   "source": [
    "## Task: create you own API that contain at least:\n",
    "\n",
    "* A route that handle GET request\n",
    "* A route that handle POST request\n",
    "* A route that take a number in the request and return this number multiplied by 2"
   ]
  },
  {
   "cell_type": "markdown",
   "metadata": {},
   "source": [
    "## Test you API\n",
    "To test you API you can of course, use you browser or a `curl` in the terminal. \n",
    "But if you want to test POST request with some data in it and start to work on complexe API then you will need a more advance tool!\n",
    "\n",
    "I recommand you to check [Postman](https://www.postman.com/) which is a free software compatible with Windows, Linux and Mac. It allow you to create and register complexe request, to add headers, to get formatted data and much more."
   ]
  },
  {
   "cell_type": "markdown",
   "metadata": {},
   "source": [
    "Are you done? If yes you know how a basic API works, how to put it in production. Congratulation! \n",
    "\n",
    "Time to explore some more :"
   ]
  },
  {
   "cell_type": "markdown",
   "metadata": {},
   "source": [
    "- https://blog.miguelgrinberg.com/post/the-flask-mega-tutorial-part-i-hello-world\n",
    "- https://python-adv-web-apps.readthedocs.io/en/latest/flask.html\n",
    "- https://www.youtube.com/watch?v=MwZwr5Tvyxo&list=PL-osiE80TeTs4UjLw5MM6OjgkjFeUxCYH\n",
    "- https://pymbook.readthedocs.io/en/latest/flask.html\n",
    "- https://web.itu.edu.tr/uyar/fad/basics.html\n",
    "- https://www.rithmschool.com/courses/flask-fundamentals/crud-with-flask"
   ]
  }
 ],
 "metadata": {
  "kernelspec": {
   "display_name": "Python 3",
   "language": "python",
   "name": "python3"
  },
  "language_info": {
   "codemirror_mode": {
    "name": "ipython",
    "version": 3
   },
   "file_extension": ".py",
   "mimetype": "text/x-python",
   "name": "python",
   "nbconvert_exporter": "python",
   "pygments_lexer": "ipython3",
   "version": "3.6.9"
  }
 },
 "nbformat": 4,
 "nbformat_minor": 2
}
