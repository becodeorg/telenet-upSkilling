{
 "cells": [
  {
   "cell_type": "markdown",
   "metadata": {},
   "source": [
    "# OS Module\n",
    "\n",
    "In this tutorial, you will learn how to work along with Python's os module."
   ]
  },
  {
   "cell_type": "markdown",
   "metadata": {},
   "source": [
    "## Introduction \n",
    "Python is one of the most frequently used languages in recent times for various tasks such as data processing, data analysis, and website building. In this process, there are various tasks that are operating system dependent. Python allows the developer to use several OS-dependent functionalities with the Python module os. This package abstracts the functionalities of the platform and provides the python functions to navigate, create, delete and modify files and folders. In this tutorial one can expect to learn how to import this package, its basic functionalities and a sample project in python which uses this library for a data merging task."
   ]
  },
  {
   "cell_type": "markdown",
   "metadata": {},
   "source": [
    "## Some Basic Functions\n",
    "Let's explore the module with some example code."
   ]
  },
  {
   "cell_type": "markdown",
   "metadata": {},
   "source": [
    "Import the Library"
   ]
  },
  {
   "cell_type": "code",
   "execution_count": 2,
   "metadata": {},
   "outputs": [],
   "source": [
    "import os"
   ]
  },
  {
   "cell_type": "markdown",
   "metadata": {},
   "source": [
    "Let's get the list of methods that we can use with this module."
   ]
  },
  {
   "cell_type": "code",
   "execution_count": 3,
   "metadata": {},
   "outputs": [
    {
     "name": "stdout",
     "output_type": "stream",
     "text": [
      "['DirEntry', 'F_OK', 'MutableMapping', 'O_APPEND', 'O_BINARY', 'O_CREAT', 'O_EXCL', 'O_NOINHERIT', 'O_RANDOM', 'O_RDONLY', 'O_RDWR', 'O_SEQUENTIAL', 'O_SHORT_LIVED', 'O_TEMPORARY', 'O_TEXT', 'O_TRUNC', 'O_WRONLY', 'P_DETACH', 'P_NOWAIT', 'P_NOWAITO', 'P_OVERLAY', 'P_WAIT', 'PathLike', 'R_OK', 'SEEK_CUR', 'SEEK_END', 'SEEK_SET', 'TMP_MAX', 'W_OK', 'X_OK', '_Environ', '__all__', '__builtins__', '__cached__', '__doc__', '__file__', '__loader__', '__name__', '__package__', '__spec__', '_execvpe', '_exists', '_exit', '_fspath', '_get_exports_list', '_putenv', '_unsetenv', '_wrap_close', 'abc', 'abort', 'access', 'altsep', 'chdir', 'chmod', 'close', 'closerange', 'cpu_count', 'curdir', 'defpath', 'device_encoding', 'devnull', 'dup', 'dup2', 'environ', 'error', 'execl', 'execle', 'execlp', 'execlpe', 'execv', 'execve', 'execvp', 'execvpe', 'extsep', 'fdopen', 'fsdecode', 'fsencode', 'fspath', 'fstat', 'fsync', 'ftruncate', 'get_exec_path', 'get_handle_inheritable', 'get_inheritable', 'get_terminal_size', 'getcwd', 'getcwdb', 'getenv', 'getlogin', 'getpid', 'getppid', 'isatty', 'kill', 'linesep', 'link', 'listdir', 'lseek', 'lstat', 'makedirs', 'mkdir', 'name', 'open', 'pardir', 'path', 'pathsep', 'pipe', 'popen', 'putenv', 'read', 'readlink', 'remove', 'removedirs', 'rename', 'renames', 'replace', 'rmdir', 'scandir', 'sep', 'set_handle_inheritable', 'set_inheritable', 'spawnl', 'spawnle', 'spawnv', 'spawnve', 'st', 'startfile', 'stat', 'stat_result', 'statvfs_result', 'strerror', 'supports_bytes_environ', 'supports_dir_fd', 'supports_effective_ids', 'supports_fd', 'supports_follow_symlinks', 'symlink', 'sys', 'system', 'terminal_size', 'times', 'times_result', 'truncate', 'umask', 'uname_result', 'unlink', 'urandom', 'utime', 'waitpid', 'walk', 'write']\n"
     ]
    }
   ],
   "source": [
    "print(dir(os))"
   ]
  },
  {
   "cell_type": "markdown",
   "metadata": {},
   "source": [
    "Now, using the `getcwd()` method (Get Current Working Directory), we can retrieve the path of the current working directory."
   ]
  },
  {
   "cell_type": "code",
   "execution_count": 54,
   "metadata": {},
   "outputs": [
    {
     "name": "stdout",
     "output_type": "stream",
     "text": [
      "C:\\Users\\Xavier\\Desktop\\OS-Module\n"
     ]
    }
   ],
   "source": [
    "print(os.getcwd())"
   ]
  },
  {
   "cell_type": "markdown",
   "metadata": {},
   "source": [
    "We can change working directory with the `chdir()` method."
   ]
  },
  {
   "cell_type": "code",
   "execution_count": 104,
   "metadata": {},
   "outputs": [
    {
     "name": "stdout",
     "output_type": "stream",
     "text": [
      "C:\\Users\\Xavier\\Desktop\n"
     ]
    }
   ],
   "source": [
    "os.chdir('C:/Users/Xavier/Desktop')\n",
    "print(os.getcwd())"
   ]
  },
  {
   "cell_type": "markdown",
   "metadata": {},
   "source": [
    "## List Folders and Files"
   ]
  },
  {
   "cell_type": "markdown",
   "metadata": {},
   "source": [
    "We can have a list of all directories in the current directory with `listdir()`."
   ]
  },
  {
   "cell_type": "code",
   "execution_count": 72,
   "metadata": {},
   "outputs": [
    {
     "name": "stdout",
     "output_type": "stream",
     "text": [
      "['Demo-Folder', 'desktop.ini', 'OS-Module', 'Screenshots', 'test.txt']\n"
     ]
    }
   ],
   "source": [
    "print(os.listdir())"
   ]
  },
  {
   "cell_type": "markdown",
   "metadata": {},
   "source": [
    "We can create new folders with `mkdir()`"
   ]
  },
  {
   "cell_type": "code",
   "execution_count": 73,
   "metadata": {},
   "outputs": [
    {
     "name": "stdout",
     "output_type": "stream",
     "text": [
      "['Demo-Folder', 'desktop.ini', 'OS-Demo', 'OS-Module', 'Screenshots', 'test.txt']\n"
     ]
    }
   ],
   "source": [
    "os.mkdir('OS-Demo')\n",
    "print(os.listdir())"
   ]
  },
  {
   "cell_type": "markdown",
   "metadata": {},
   "source": [
    "We can rename files and folders with the method `rename()`"
   ]
  },
  {
   "cell_type": "code",
   "execution_count": 74,
   "metadata": {},
   "outputs": [
    {
     "name": "stdout",
     "output_type": "stream",
     "text": [
      "['Demo-Folder', 'demo.txt', 'desktop.ini', 'OS-Demo', 'OS-Module', 'Screenshots']\n"
     ]
    }
   ],
   "source": [
    "os.rename('test.txt', 'demo.txt')\n",
    "print(os.listdir())"
   ]
  },
  {
   "cell_type": "markdown",
   "metadata": {},
   "source": [
    "We can remove directories with `rmdir()`"
   ]
  },
  {
   "cell_type": "code",
   "execution_count": 75,
   "metadata": {},
   "outputs": [
    {
     "name": "stdout",
     "output_type": "stream",
     "text": [
      "['Demo-Folder', 'demo.txt', 'desktop.ini', 'OS-Module', 'Screenshots']\n"
     ]
    }
   ],
   "source": [
    "os.rmdir('OS-Demo')\n",
    "print(os.listdir())"
   ]
  },
  {
   "cell_type": "markdown",
   "metadata": {},
   "source": [
    "We can even create deep level directories with `makedirs()`"
   ]
  },
  {
   "cell_type": "code",
   "execution_count": 84,
   "metadata": {},
   "outputs": [
    {
     "name": "stdout",
     "output_type": "stream",
     "text": [
      "['Demo-Folder', 'demo.txt', 'desktop.ini', 'OS-Demo', 'OS-Module', 'Screenshots']\n"
     ]
    }
   ],
   "source": [
    "os.makedirs('OS-Demo/Sub-Dir-1/Sub-Dir-2')\n",
    "print(os.listdir())"
   ]
  },
  {
   "cell_type": "markdown",
   "metadata": {},
   "source": [
    "You can see the complete directory tree you can use the walk() method. It will return the directory path, the directories within that path and the files within that path."
   ]
  },
  {
   "cell_type": "code",
   "execution_count": 88,
   "metadata": {},
   "outputs": [
    {
     "name": "stdout",
     "output_type": "stream",
     "text": [
      "Current Path : C:\\Users\\Xavier\\Desktop\n",
      "Directories : ['Demo-Folder', 'OS-Demo', 'OS-Module', 'Screenshots']\n",
      "Files : ['demo.txt', 'desktop.ini']\n",
      "\n",
      "Current Path : C:\\Users\\Xavier\\Desktop\\Demo-Folder\n",
      "Directories : []\n",
      "Files : []\n",
      "\n",
      "Current Path : C:\\Users\\Xavier\\Desktop\\OS-Demo\n",
      "Directories : ['Sub-Dir-1']\n",
      "Files : []\n",
      "\n",
      "Current Path : C:\\Users\\Xavier\\Desktop\\OS-Demo\\Sub-Dir-1\n",
      "Directories : ['Sub-Dir-2']\n",
      "Files : []\n",
      "\n",
      "Current Path : C:\\Users\\Xavier\\Desktop\\OS-Demo\\Sub-Dir-1\\Sub-Dir-2\n",
      "Directories : []\n",
      "Files : []\n",
      "\n",
      "Current Path : C:\\Users\\Xavier\\Desktop\\OS-Module\n",
      "Directories : []\n",
      "Files : []\n",
      "\n",
      "Current Path : C:\\Users\\Xavier\\Desktop\\Screenshots\n",
      "Directories : []\n",
      "Files : []\n",
      "\n"
     ]
    }
   ],
   "source": [
    "for directory_path, directory_names, directory_files in os.walk(os.getcwd()):\n",
    "    print('Current Path :', directory_path)\n",
    "    print('Directories :', directory_names)\n",
    "    print('Files :', directory_files)\n",
    "    print()"
   ]
  },
  {
   "cell_type": "markdown",
   "metadata": {},
   "source": [
    "We can even make a function to display it like a file tree :"
   ]
  },
  {
   "cell_type": "code",
   "execution_count": 92,
   "metadata": {},
   "outputs": [
    {
     "name": "stdout",
     "output_type": "stream",
     "text": [
      "Desktop/\n",
      "    demo.txt\n",
      "    desktop.ini\n",
      "    Demo-Folder/\n",
      "    OS-Demo/\n",
      "        Sub-Dir-1/\n",
      "            Sub-Dir-2/\n",
      "    OS-Module/\n",
      "    Screenshots/\n"
     ]
    }
   ],
   "source": [
    "def list_files(startpath):\n",
    "    for path, dirs, files in os.walk(startpath):\n",
    "        # print(dirs)\n",
    "        if dir!= '.git':\n",
    "            level = path.replace(startpath, '').count(os.sep)\n",
    "            indent = ' ' * 4 * (level)\n",
    "            print('{}{}/'.format(indent, os.path.basename(path)))\n",
    "            subindent = ' ' * 4 * (level + 1)\n",
    "            for f in files:\n",
    "                print('{}{}'.format(subindent, f))\n",
    "                \n",
    "list_files(os.getcwd())"
   ]
  },
  {
   "cell_type": "markdown",
   "metadata": {},
   "source": [
    "We can also use `scandir()` which iterates into your directory."
   ]
  },
  {
   "cell_type": "code",
   "execution_count": 148,
   "metadata": {},
   "outputs": [
    {
     "name": "stdout",
     "output_type": "stream",
     "text": [
      "Folders : ['C:/Users/Xavier/Desktop/Demo-Folder', 'C:/Users/Xavier/Desktop/OS-Demo', 'C:/Users/Xavier/Desktop/OS-Module', 'C:/Users/Xavier/Desktop/Screenshots']\n",
      "Files :  ['C:/Users/Xavier/Desktop/demo.txt', 'C:/Users/Xavier/Desktop/desktop.ini']\n"
     ]
    }
   ],
   "source": [
    "folders = []\n",
    "files = []\n",
    "\n",
    "for entry in os.scandir('C:/Users/Xavier/Desktop/'):\n",
    "    if entry.is_dir():\n",
    "        folders.append(entry.path)\n",
    "    elif entry.is_file():\n",
    "        files.append(entry.path)\n",
    "        \n",
    "print('Folders :', folders)\n",
    "print('Files : ', files)"
   ]
  },
  {
   "cell_type": "markdown",
   "metadata": {},
   "source": [
    "To remove mutiple directories `rmdir()` would not work, we need to use `removedirs()`"
   ]
  },
  {
   "cell_type": "code",
   "execution_count": 78,
   "metadata": {},
   "outputs": [
    {
     "name": "stdout",
     "output_type": "stream",
     "text": [
      "['Demo-Folder', 'demo.txt', 'desktop.ini', 'OS-Module', 'Screenshots']\n"
     ]
    }
   ],
   "source": [
    "os.removedirs('OS-Demo/Sub-Dir-1/Sub-Dir-2')\n",
    "print(os.listdir())"
   ]
  },
  {
   "cell_type": "markdown",
   "metadata": {},
   "source": [
    "## File Informations"
   ]
  },
  {
   "cell_type": "markdown",
   "metadata": {},
   "source": [
    "With the `stat()` method you can have several information about one file :"
   ]
  },
  {
   "cell_type": "code",
   "execution_count": 80,
   "metadata": {},
   "outputs": [
    {
     "name": "stdout",
     "output_type": "stream",
     "text": [
      "os.stat_result(st_mode=33206, st_ino=7599824371974038, st_dev=1321369619, st_nlink=1, st_uid=0, st_gid=0, st_size=0, st_atime=1593602982, st_mtime=1593602982, st_ctime=1593602982)\n"
     ]
    }
   ],
   "source": [
    "print(os.stat('demo.txt'))"
   ]
  },
  {
   "cell_type": "markdown",
   "metadata": {},
   "source": [
    "`st_size` and `st_mtime` give you the size of the file in bytes and the last modification time"
   ]
  },
  {
   "cell_type": "code",
   "execution_count": 81,
   "metadata": {},
   "outputs": [
    {
     "name": "stdout",
     "output_type": "stream",
     "text": [
      "0\n",
      "1593602982.522462\n"
     ]
    }
   ],
   "source": [
    "print(os.stat('demo.txt').st_size)\n",
    "print(os.stat('demo.txt').st_mtime)"
   ]
  },
  {
   "cell_type": "markdown",
   "metadata": {},
   "source": [
    "The file is 0 byte wich makes sense as it is empty.\n",
    "But the modification time is a timestamp, so we need to import another module to understand it."
   ]
  },
  {
   "cell_type": "code",
   "execution_count": 83,
   "metadata": {},
   "outputs": [
    {
     "name": "stdout",
     "output_type": "stream",
     "text": [
      "2020-07-01 13:29:42.522462\n"
     ]
    }
   ],
   "source": [
    "from datetime import datetime\n",
    "\n",
    "modification_time = os.stat('demo.txt').st_mtime\n",
    "print(datetime.fromtimestamp(modification_time))"
   ]
  },
  {
   "cell_type": "markdown",
   "metadata": {},
   "source": [
    "You can even use the `environ()` method to get path from different environement variables.\n",
    "Let's say I want to create a new file within my home directory called `test.txt`. We can use the `path.join()` function to create the full path."
   ]
  },
  {
   "cell_type": "code",
   "execution_count": 125,
   "metadata": {},
   "outputs": [
    {
     "name": "stdout",
     "output_type": "stream",
     "text": [
      "File path : \\Users\\Xavier\n",
      "File : text.txt\n",
      "Full Path : \\Users\\Xavier\\text.txt\n"
     ]
    }
   ],
   "source": [
    "file_path = os.environ.get('HOMEPATH') \n",
    "file = 'text.txt'\n",
    "full_path = os.path.join(file_path,file)\n",
    "print('File path :', file_path)\n",
    "print('File :', file)\n",
    "print('Full Path :',full_path)"
   ]
  },
  {
   "cell_type": "markdown",
   "metadata": {},
   "source": [
    "## Usefull functions"
   ]
  },
  {
   "cell_type": "markdown",
   "metadata": {},
   "source": [
    "You have a lot of useful functions inside the `os.path` method, here is some of them :"
   ]
  },
  {
   "cell_type": "code",
   "execution_count": 142,
   "metadata": {},
   "outputs": [
    {
     "name": "stdout",
     "output_type": "stream",
     "text": [
      "demo.txt\n"
     ]
    }
   ],
   "source": [
    "# the last portion of a path \n",
    "print(os.path.basename('C:/Users/Xavier/Desktop/demo.txt'))"
   ]
  },
  {
   "cell_type": "code",
   "execution_count": 141,
   "metadata": {},
   "outputs": [
    {
     "name": "stdout",
     "output_type": "stream",
     "text": [
      "C:/Users/Xavier/Desktop\n"
     ]
    }
   ],
   "source": [
    "# directory name of a path\n",
    "print(os.path.dirname('C:/Users/Xavier/Desktop/demo.txt'))"
   ]
  },
  {
   "cell_type": "code",
   "execution_count": 140,
   "metadata": {},
   "outputs": [
    {
     "name": "stdout",
     "output_type": "stream",
     "text": [
      "('C:/Users/Xavier/Desktop', 'demo.txt')\n"
     ]
    }
   ],
   "source": [
    "# split a path into dirname + basename\n",
    "print(os.path.split('C:/Users/Xavier/Desktop/demo.txt'))"
   ]
  },
  {
   "cell_type": "code",
   "execution_count": 139,
   "metadata": {},
   "outputs": [
    {
     "name": "stdout",
     "output_type": "stream",
     "text": [
      "('C:/Users/Xavier/Desktop/demo', '.txt')\n"
     ]
    }
   ],
   "source": [
    "# split a path and the extension of a file\n",
    "print(os.path.splitext('C:/Users/Xavier/Desktop/demo.txt'))"
   ]
  },
  {
   "cell_type": "code",
   "execution_count": 138,
   "metadata": {},
   "outputs": [
    {
     "name": "stdout",
     "output_type": "stream",
     "text": [
      "True\n"
     ]
    }
   ],
   "source": [
    "# check if a path exists\n",
    "print(os.path.exists('C:/Users/Xavier/Desktop/demo.txt'))"
   ]
  },
  {
   "cell_type": "code",
   "execution_count": 136,
   "metadata": {},
   "outputs": [
    {
     "name": "stdout",
     "output_type": "stream",
     "text": [
      "True\n"
     ]
    }
   ],
   "source": [
    "# check if a path points to an existing file\n",
    "print(os.path.isfile('C:/Users/Xavier/Desktop/demo.txt'))"
   ]
  },
  {
   "cell_type": "code",
   "execution_count": 137,
   "metadata": {},
   "outputs": [
    {
     "name": "stdout",
     "output_type": "stream",
     "text": [
      "False\n"
     ]
    }
   ],
   "source": [
    "# check if a path points to an existing directory\n",
    "print(os.path.isdir('C:/Users/Xavier/Desktop/demo.txt'))"
   ]
  },
  {
   "cell_type": "markdown",
   "metadata": {},
   "source": [
    "## os.system() \n",
    "You can use the `system()` method to execute command."
   ]
  },
  {
   "cell_type": "code",
   "execution_count": 176,
   "metadata": {},
   "outputs": [
    {
     "data": {
      "text/plain": [
       "0"
      ]
     },
     "execution_count": 176,
     "metadata": {},
     "output_type": "execute_result"
    }
   ],
   "source": [
    "import time\n",
    "\n",
    "cmd = 'start' # opening windows command prompt\n",
    "close_cmd = 'taskkill /im cmd.exe' # closing windows command prompt\n",
    "\n",
    "os.system(cmd) \n",
    "time.sleep(2) # wait 2 seconds before executing the next line\n",
    "os.system(close_cmd) "
   ]
  },
  {
   "cell_type": "markdown",
   "metadata": {},
   "source": [
    "You can find more in the [official documentation](https://docs.python.org/3/library/os.html)"
   ]
  }
 ],
 "metadata": {
  "kernelspec": {
   "display_name": "Python 3",
   "language": "python",
   "name": "python3"
  },
  "language_info": {
   "codemirror_mode": {
    "name": "ipython",
    "version": 3
   },
   "file_extension": ".py",
   "mimetype": "text/x-python",
   "name": "python",
   "nbconvert_exporter": "python",
   "pygments_lexer": "ipython3",
   "version": "3.6.9"
  }
 },
 "nbformat": 4,
 "nbformat_minor": 4
}
