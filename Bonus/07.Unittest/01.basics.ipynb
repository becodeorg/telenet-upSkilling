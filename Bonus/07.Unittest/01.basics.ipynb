{
 "metadata": {
  "language_info": {
   "codemirror_mode": {
    "name": "ipython",
    "version": 3
   },
   "file_extension": ".py",
   "mimetype": "text/x-python",
   "name": "python",
   "nbconvert_exporter": "python",
   "pygments_lexer": "ipython3",
   "version": "3.7.9-final"
  },
  "orig_nbformat": 2,
  "kernelspec": {
   "name": "python_defaultSpec_1600156029058",
   "display_name": "Python 3.7.9 64-bit"
  }
 },
 "nbformat": 4,
 "nbformat_minor": 2,
 "cells": [
  {
   "source": [
    "# Unit testing\n",
    "\n",
    "## What is this?\n",
    "Unit tests are used to verify that your code behave like you expect.\n",
    "We create test that take multiple input and use a function that we \n",
    "use in our code and we check that the ouput is the one expected.\n",
    "\n",
    "![test process](https://media.giphy.com/media/Y0b2MpUTfnrUa3jIM7/giphy.gif)\n",
    "\n",
    "## Example\n",
    "Let's take a super simple example. \n",
    "\n",
    "If we want to the `add` function that take 2 int and return another int. \n",
    "We can use the built-in `assert` keyword. Our unit test would look something like this:"
   ],
   "cell_type": "markdown",
   "metadata": {}
  },
  {
   "cell_type": "code",
   "execution_count": 6,
   "metadata": {
    "tags": []
   },
   "outputs": [
    {
     "output_type": "stream",
     "name": "stdout",
     "text": "Code tested. No errors.\n"
    }
   ],
   "source": [
    "# Function definition\n",
    "def add(number_one: int, number_two: int) -> int:\n",
    "    return number_one + number_two\n",
    "\n",
    "def multiply(number_one: int, number_two: int) -> int:\n",
    "    return number_one * number_two\n",
    "\n",
    "# Unit testing\n",
    "def test_add():\n",
    "    test_1 = add(1, 1)\n",
    "    test_2 = add(2, 3)\n",
    "    test_3 = add(5, 5)\n",
    "\n",
    "    assert test_1 == 2\n",
    "    assert test_2 == 5\n",
    "    assert test_3 == 10\n",
    "\n",
    "    print(\"Code tested. No errors.\")\n",
    "\n",
    "def test_multiply():\n",
    "    \"\"\"Test the add function.\"\"\"\n",
    "    test_1 = multiply(1, 1)\n",
    "    test_2 = multiply(2, 3)\n",
    "    test_3 = multiply(5, 5)\n",
    "\n",
    "    assert test_1 == 1\n",
    "    assert test_2 == 6\n",
    "    assert test_3 == 25\n",
    "\n",
    "if __name__ == \"__main__\":\n",
    "    test_add()\n",
    "    test_multiply()\n"
   ]
  },
  {
   "source": [
    "Perfect, our code run well!\n",
    "\n",
    "But what will happen if there is an error on one of the functions we try to test?\n"
   ],
   "cell_type": "markdown",
   "metadata": {}
  },
  {
   "cell_type": "code",
   "execution_count": 8,
   "metadata": {
    "tags": []
   },
   "outputs": [
    {
     "output_type": "error",
     "ename": "AssertionError",
     "evalue": "",
     "traceback": [
      "\u001b[1;31m---------------------------------------------------------------------------\u001b[0m",
      "\u001b[1;31mAssertionError\u001b[0m                            Traceback (most recent call last)",
      "\u001b[1;32m<ipython-input-8-392baad42304>\u001b[0m in \u001b[0;36m<module>\u001b[1;34m\u001b[0m\n\u001b[0;32m     29\u001b[0m \u001b[1;33m\u001b[0m\u001b[0m\n\u001b[0;32m     30\u001b[0m \u001b[1;32mif\u001b[0m \u001b[0m__name__\u001b[0m \u001b[1;33m==\u001b[0m \u001b[1;34m\"__main__\"\u001b[0m\u001b[1;33m:\u001b[0m\u001b[1;33m\u001b[0m\u001b[1;33m\u001b[0m\u001b[0m\n\u001b[1;32m---> 31\u001b[1;33m     \u001b[0mtest_add\u001b[0m\u001b[1;33m(\u001b[0m\u001b[1;33m)\u001b[0m\u001b[1;33m\u001b[0m\u001b[1;33m\u001b[0m\u001b[0m\n\u001b[0m\u001b[0;32m     32\u001b[0m     \u001b[0mtest_multiply\u001b[0m\u001b[1;33m(\u001b[0m\u001b[1;33m)\u001b[0m\u001b[1;33m\u001b[0m\u001b[1;33m\u001b[0m\u001b[0m\n",
      "\u001b[1;32m<ipython-input-8-392baad42304>\u001b[0m in \u001b[0;36mtest_add\u001b[1;34m()\u001b[0m\n\u001b[0;32m     12\u001b[0m     \u001b[0mtest_3\u001b[0m \u001b[1;33m=\u001b[0m \u001b[0madd\u001b[0m\u001b[1;33m(\u001b[0m\u001b[1;36m5\u001b[0m\u001b[1;33m,\u001b[0m \u001b[1;36m5\u001b[0m\u001b[1;33m)\u001b[0m\u001b[1;33m\u001b[0m\u001b[1;33m\u001b[0m\u001b[0m\n\u001b[0;32m     13\u001b[0m \u001b[1;33m\u001b[0m\u001b[0m\n\u001b[1;32m---> 14\u001b[1;33m     \u001b[1;32massert\u001b[0m \u001b[0mtest_1\u001b[0m \u001b[1;33m==\u001b[0m \u001b[1;36m200\u001b[0m\u001b[1;33m\u001b[0m\u001b[1;33m\u001b[0m\u001b[0m\n\u001b[0m\u001b[0;32m     15\u001b[0m     \u001b[1;32massert\u001b[0m \u001b[0mtest_2\u001b[0m \u001b[1;33m==\u001b[0m \u001b[1;36m5\u001b[0m\u001b[1;33m\u001b[0m\u001b[1;33m\u001b[0m\u001b[0m\n\u001b[0;32m     16\u001b[0m     \u001b[1;32massert\u001b[0m \u001b[0mtest_3\u001b[0m \u001b[1;33m==\u001b[0m \u001b[1;36m10\u001b[0m\u001b[1;33m\u001b[0m\u001b[1;33m\u001b[0m\u001b[0m\n",
      "\u001b[1;31mAssertionError\u001b[0m: "
     ]
    }
   ],
   "source": [
    "# Function definition\n",
    "def add(number_one: int, number_two: int) -> int:\n",
    "    return number_one + number_two\n",
    "\n",
    "def multiply(number_one: int, number_two: int) -> int:\n",
    "    return number_one * number_two\n",
    "\n",
    "# Unit testing\n",
    "def test_add():\n",
    "    test_1 = add(1, 1)\n",
    "    test_2 = add(2, 3)\n",
    "    test_3 = add(5, 5)\n",
    "\n",
    "    assert test_1 == 200\n",
    "    assert test_2 == 5\n",
    "    assert test_3 == 10\n",
    "\n",
    "    print(\"Code tested. No errors.\")\n",
    "\n",
    "def test_multiply():\n",
    "    \"\"\"Test the add function.\"\"\"\n",
    "    test_1 = multiply(1, 1)\n",
    "    test_2 = multiply(2, 3)\n",
    "    test_3 = multiply(5, 5)\n",
    "\n",
    "    assert test_1 == 1\n",
    "    assert test_2 == 6\n",
    "    assert test_3 == 25\n",
    "\n",
    "if __name__ == \"__main__\":\n",
    "    test_add()\n",
    "    test_multiply()"
   ]
  },
  {
   "source": [
    "We will see that our first assert fail and we have no clue on if the rest of the test are passing or not. \n",
    " \n",
    "That's the basic of unit testing. But testing you code this way is far to be a good practice. \n",
    "It will be anoying to write as you will need to call all you functions you could forget one, \n",
    "and you will come to a point where you will need more features to test your code.\n",
    "\n",
    "That's why there is the `unittest` module built-in in python.\n",
    "With it you can create a class that start with `Test` and innherit from `unittest.TestCase` and call `unittest.main()` at the end of the file.\n",
    "All the functions in it that start with `test_` are gonna be run when you will run the file.\n",
    "\n",
    "It also allow you to use cools features that we will see later.\n",
    "\n",
    "A last adventage of it is the structure. You can create classes related to files, block of code,...\n",
    "\n",
    "Let's do the same with this method!\n",
    "\n",
    "We also can access to some handy methods provided by the `TestCase` class:\n",
    "* `assetEqual(elem_1, elem_2)` that check if the two parameters we give are equal.\n",
    "* `assertTrue(elem)` that check if element is True.\n",
    "* `assertFalse(elem)` that check if element is Flase.\n",
    "* ..."
   ],
   "cell_type": "markdown",
   "metadata": {}
  },
  {
   "cell_type": "code",
   "execution_count": 17,
   "metadata": {
    "tags": []
   },
   "outputs": [
    {
     "output_type": "stream",
     "name": "stderr",
     "text": "..\n----------------------------------------------------------------------\nRan 2 tests in 0.002s\n\nOK\n"
    },
    {
     "output_type": "execute_result",
     "data": {
      "text/plain": "<unittest.main.TestProgram at 0x1aa3e3d4d88>"
     },
     "metadata": {},
     "execution_count": 17
    }
   ],
   "source": [
    "# Import the built-in unittest module\n",
    "import unittest\n",
    "\n",
    "# Function definition\n",
    "def add(number_one: int, number_two: int) -> int:\n",
    "    return number_one + number_two\n",
    "\n",
    "def multiply(number_one: int, number_two: int) -> int:\n",
    "    return number_one * number_two\n",
    "\n",
    "# Unit testing\n",
    "class TestMathFunctions(unittest.TestCase):\n",
    "    \"\"\"CLass that will test all the math related functions.\"\"\"\n",
    "\n",
    "    def test_add(self):\n",
    "        \"\"\"Test the add function.\"\"\"\n",
    "        test_1 = add(1, 1)\n",
    "        test_2 = add(2, 3)\n",
    "        test_3 = add(5, 5)\n",
    "\n",
    "        self.assertEqual(test_1, 2)\n",
    "        self.assertEqual(test_2, 5)\n",
    "        self.assertEqual(test_3, 10)\n",
    "\n",
    "    def test_multiply(self):\n",
    "        \"\"\"Test the add function.\"\"\"\n",
    "        test_1 = multiply(1, 1)\n",
    "        test_2 = multiply(2, 3)\n",
    "        test_3 = multiply(5, 5)\n",
    "\n",
    "        # Check that there is an output\n",
    "        self.assertTrue(test_1)\n",
    "        self.assertTrue(test_2)\n",
    "        self.assertTrue(test_3) \n",
    "        # Check that the output has the right value\n",
    "        self.assertEqual(test_1, 1)\n",
    "        self.assertEqual(test_2, 6)\n",
    "        self.assertEqual(test_3, 25)\n",
    "\n",
    "# In a .py file use:\n",
    "# unittest.main()\n",
    "# In jupyter notebook, we need a add some params:\n",
    "unittest.main(argv=['first-arg-is-ignored'], exit=False)"
   ]
  },
  {
   "source": [
    "What if there is an error now?"
   ],
   "cell_type": "markdown",
   "metadata": {}
  },
  {
   "cell_type": "code",
   "execution_count": 26,
   "metadata": {
    "tags": []
   },
   "outputs": [
    {
     "output_type": "stream",
     "name": "stderr",
     "text": "F.\n======================================================================\nFAIL: test_add (__main__.TestMathFunctions)\nTest the add function.\n----------------------------------------------------------------------\nTraceback (most recent call last):\n  File \"<ipython-input-26-164d58293082>\", line 22, in test_add\n    self.assertEqual(test_1, 200)\nAssertionError: 2 != 200\n\n----------------------------------------------------------------------\nRan 2 tests in 0.002s\n\nFAILED (failures=1)\n"
    }
   ],
   "source": [
    "# Import the built-in unittest module\n",
    "import unittest\n",
    "\n",
    "# Function definition\n",
    "def add(number_one: int, number_two: int) -> int:\n",
    "    return number_one + number_two\n",
    "\n",
    "def multiply(number_one: int, number_two: int) -> int:\n",
    "    return number_one * number_two\n",
    "\n",
    "# Unit testing\n",
    "class TestMathFunctions(unittest.TestCase):\n",
    "    \"\"\"CLass that will test all the math related functions.\"\"\"\n",
    "\n",
    "    def test_add(self):\n",
    "        \"\"\"Test the add function.\"\"\"\n",
    "        test_1 = add(1, 1)\n",
    "        test_2 = add(2, 3)\n",
    "        test_3 = add(5, 5)\n",
    "\n",
    "        # Error here\n",
    "        self.assertEqual(test_1, 200)\n",
    "        self.assertEqual(test_2, 5)\n",
    "        self.assertEqual(test_3, 10)\n",
    "\n",
    "    def test_multiply(self):\n",
    "        \"\"\"Test the add function.\"\"\"\n",
    "        test_1 = multiply(1, 1)\n",
    "        test_2 = multiply(2, 3)\n",
    "        test_3 = multiply(5, 5)\n",
    "\n",
    "        # Check that there is an output\n",
    "        self.assertTrue(test_1)\n",
    "        self.assertTrue(test_2)\n",
    "        self.assertTrue(test_3) \n",
    "        # Check that the output has the right value\n",
    "        self.assertEqual(test_1, 1)\n",
    "        self.assertEqual(test_2, 6)\n",
    "        self.assertEqual(test_3, 25)\n",
    "\n",
    "if __name__ == \"__main__\":\n",
    "    # In a .py file use:\n",
    "    # unittest.main()\n",
    "    # In jupyter notebook, we need a add some params:\n",
    "    unittest.main(argv=['first-arg-is-ignored'], exit=False)"
   ]
  },
  {
   "source": [
    "As you can see, it will run all the test and give me the number of fails. and what are the fails.\n",
    "\n",
    "## What should I test?\n",
    "Well, it's up to you. If you want a clean and robust code, you should test every functions of you code. \n",
    "It will provide you the confidence that you code is doing what you expect.\n",
    "\n",
    "But, hey, I know what I'm doing! I test my code in the real world before pushing!\n",
    "\n",
    "Maybe, but maybe if you work with anyone else, they can't know by heart your entire code base right? How can you be sure that when you will fix a bug in a 6 month old code you will not forget that the function you change is needed somewhere else and is not compatible with your small bug fix?\n",
    "\n",
    "That's why we write unit tests. Make you changes, run your unit tests, if all of them passes. Then you're sure that your code will be fine.\n",
    "\n",
    "## How should I test?\n",
    "Testing the output is great, it will ensure that your function will have the correct behavior.\n",
    "\n",
    "But you want to fully taking advantage of your unit tests, you can also add several verification steps. So if something go wrong you will immadiatly know where the probleme is!\n",
    "\n",
    "Let's take an example. "
   ],
   "cell_type": "markdown",
   "metadata": {}
  },
  {
   "cell_type": "code",
   "execution_count": 27,
   "metadata": {
    "tags": []
   },
   "outputs": [
    {
     "output_type": "stream",
     "name": "stderr",
     "text": "FFE\n======================================================================\nERROR: test_multiply (__main__.TestMathFunctions)\nTest the add function.\n----------------------------------------------------------------------\nTraceback (most recent call last):\n  File \"<ipython-input-27-cb1537012cf4>\", line 36, in test_multiply\n    assert test_2 == 6\nNameError: name 'test_2' is not defined\n\n======================================================================\nFAIL: test_add (__main__.TestMathFunctions)\nTest the add function.\n----------------------------------------------------------------------\nTraceback (most recent call last):\n  File \"<ipython-input-27-cb1537012cf4>\", line 25, in test_add\n    assert test_1 == 200\nAssertionError\n\n======================================================================\nFAIL: test_add_and_multiply (__main__.TestMathFunctions)\nTest the add_and_multiply function.\n----------------------------------------------------------------------\nTraceback (most recent call last):\n  File \"<ipython-input-27-cb1537012cf4>\", line 43, in test_add_and_multiply\n    assert test_1 == 14\nAssertionError\n\n----------------------------------------------------------------------\nRan 3 tests in 0.004s\n\nFAILED (failures=2, errors=1)\n"
    }
   ],
   "source": [
    "# Function definition\n",
    "def add(number_one: int, number_two: int) -> int:\n",
    "    return number_one + number_two\n",
    "\n",
    "def multiply(number_one: int, number_two: int) -> int:\n",
    "    return number_one * number_two\n",
    "\n",
    "def add_and_multiply(number_one: int, number_two: int) -> int:\n",
    "    addition_result = add(number_one, number_one)\n",
    "    multiplying_result = multiply(number_one, number_one)\n",
    "\n",
    "    result = add(addition_result, multiplying_result)\n",
    "    return result\n",
    "\n",
    "# Unit testing\n",
    "class TestMathFunctions(unittest.TestCase):\n",
    "    \"\"\"CLass that will test all the math related functions.\"\"\"\n",
    "\n",
    "    def test_add(self):\n",
    "        \"\"\"Test the add function.\"\"\"\n",
    "        test_1 = add(1, 1)\n",
    "        test2 = add(2, 3)\n",
    "        test_3 = add(5, 5)\n",
    "\n",
    "        assert test_1 == 200\n",
    "        assert test_2 == 5\n",
    "        assert test_3 == 10\n",
    "\n",
    "    def test_multiply(self):\n",
    "        \"\"\"Test the add function.\"\"\"\n",
    "        test_1 = multiply(1, 1)\n",
    "        test2 = multiply(2, 3)\n",
    "        test_3 = multiply(5, 5)\n",
    "\n",
    "        assert test_1 == 1\n",
    "        assert test_2 == 6\n",
    "        assert test_3 == 25\n",
    "\n",
    "    def test_add_and_multiply(self):\n",
    "        \"\"\"Test the add_and_multiply function.\"\"\"\n",
    "        test_1 = add_and_multiply(2, 4)\n",
    "\n",
    "        assert test_1 == 14\n",
    "\n",
    "if __name__ == \"__main__\":\n",
    "    # In a .py file use:\n",
    "    # unittest.main()\n",
    "    # In jupyter notebook, we need a add some params:\n",
    "    unittest.main(argv=['first-arg-is-ignored'], exit=False)"
   ]
  },
  {
   "cell_type": "code",
   "execution_count": null,
   "metadata": {},
   "outputs": [],
   "source": []
  }
 ]
}