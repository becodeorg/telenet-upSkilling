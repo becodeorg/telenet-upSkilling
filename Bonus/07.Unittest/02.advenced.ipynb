{
 "metadata": {
  "language_info": {
   "codemirror_mode": {
    "name": "ipython",
    "version": 3
   },
   "file_extension": ".py",
   "mimetype": "text/x-python",
   "name": "python",
   "nbconvert_exporter": "python",
   "pygments_lexer": "ipython3",
   "version": "3.7.9-final"
  },
  "orig_nbformat": 2,
  "kernelspec": {
   "name": "python_defaultSpec_1600165540888",
   "display_name": "Python 3.7.9 64-bit"
  }
 },
 "nbformat": 4,
 "nbformat_minor": 2,
 "cells": [
  {
   "source": [
    "# Advanced features\n",
    "As you can see, it can become really complicated to test when you functions become more and more complicated.\n",
    "There is two solution to it:\n",
    "1. Maybe the problem is that you code is to complicated. Maybe you need to create more small functions instead of having few big functions.\n",
    "2. Use advenced feature.\n",
    "\n",
    "We saw the basis of unit testing. But there is more. Maybe you want to test more complicated things like:\\\n",
    "* Testing a function that need a connection to a database without connection to this database.\n",
    "* Testing a function that drop a table in a database without droping it.\n",
    "* Testing the connection to a database\n",
    "* Testing a function that should access to could services like Azure, Amazon, Google cloud,...\n",
    "* Testing a complexe function\n",
    "* ...\n",
    "\n",
    "To do so, you will be limited with the `unittest` module.\n",
    "\n",
    "[pytest](https://docs.pytest.org/en/latest/) is a good solution. It allow you to do all thoses actions.\n",
    "[Mock objects](https://medium.com/ryans-dev-notes/python-mock-and-magicmock-b3295c2cc7eb) are also super handy to fake actions like connecting to database or any sercives.\n",
    "But Also to avoid the need to executing heavy and long code when you only need to test a small thing.\n",
    "\n",
    "\n",
    "## What if people I work with doesn't care?\n",
    "There is a lot of possibilities if you want to enforce the usage of your unit tests.\n",
    "\n",
    "1. **Pre-commit hooks** You enforce the usage of pre-commit hooks and add a hook that verify all your unit tests before allowing to push/merge.\n",
    "2. **Bit-bucket/Git-lab/Github/...** Most of the modern code hub give you the possibility to create pipelines that can run your unit tests.\n",
    "3. **CI/CD** There is a lot of external services that allow you to run your tests before deploying and do not deploy if a test fail. Some of them: [Circle CI](https://circleci.com/), [jenkins](https://www.jenkins.io/doc/), [Azure pipeline](https://azure.microsoft.com/en-us/services/devops/pipelines/),...\n",
    "\n",
    "## Conclusion\n",
    "In conclusion, unit testing will save you a lot of time when you will need to refactor your code or add features to it. It will also spots your mistakes and show you when the issue is if you write them well.\n",
    "\n",
    "![dummy friends](https://media.giphy.com/media/5xrkJe3IJKSze/giphy.gif)"
   ],
   "cell_type": "markdown",
   "metadata": {}
  },
  {
   "cell_type": "code",
   "execution_count": null,
   "metadata": {},
   "outputs": [],
   "source": []
  }
 ]
}