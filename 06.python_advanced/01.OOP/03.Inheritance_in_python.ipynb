{
 "cells": [
  {
   "cell_type": "markdown",
   "metadata": {},
   "source": [
    "# The inheritance\n",
    "## Building a class from an already known one\n",
    "\n",
    "Inheritance is an object feature that allows you to declare that a particular class will itself be modeled on another class, called the parent class. In concrete terms, if a class \"b\" inherits the class \"a\", objects created on the model of the class \"b\" will have access to the methods and attributes of the class \"a\".\n",
    "\n",
    "Class \"b\" does not only use the methods and attributes of class \"a\": it will also be able to define others. Other methods and attributes that will be specific to it, in addition to the methods and attributes of class \"a\". And it will also be able to redefine the methods of the mother class.\n",
    "\n",
    "Example: A secret agent is a person with a specificity. We can therefore create a Special Agent class that inherits from the Person class. "
   ]
  },
  {
   "cell_type": "code",
   "execution_count": 7,
   "metadata": {},
   "outputs": [],
   "source": [
    "class Person:\n",
    "    \"\"\"Class representing one person\"\"\"\n",
    "    def __init__(self, name,firstname):\n",
    "        \"\"\"Constructor our class\"\"\"\n",
    "        self.name = name\n",
    "        self.firstname = firstname\n",
    "    def __str__(self):\n",
    "        \"\"\"Method called during a conversion of the object into a chain\"\"\"\n",
    "        return \"{0} {1}\".format(self.prenom, self.nom)\n",
    "\n",
    "class AgentSpecial(Person):\n",
    "    \"\"\"A class that defines a special agent.\n",
    "    She inherits the class Person\"\"\"\n",
    "    \n",
    "    def __init__(self, name,firstname, matricule):\n",
    "        \"\"\"An agent is defined by his name and personnel number\"\"\"\n",
    "        # We explicitly call the Person Builder:\n",
    "        Person.__init__(self, name,firstname)\n",
    "        self.matricule = matricule\n",
    "    def __str__(self):\n",
    "        \"\"\"Method called during a conversion of the object into a chain\"\"\"\n",
    "        return \"Agent {0}. {2} {0}, matricule {1}\".format(self.name, self.matricule,self.firstname)"
   ]
  },
  {
   "cell_type": "code",
   "execution_count": 8,
   "metadata": {},
   "outputs": [
    {
     "name": "stdout",
     "output_type": "stream",
     "text": [
      "Agent Do. Lu Do, matricule 007\n"
     ]
    }
   ],
   "source": [
    "agent_007=AgentSpecial('Do','Lu','007')\n",
    "print(agent_007)"
   ]
  },
  {
   "cell_type": "markdown",
   "metadata": {},
   "source": [
    "- Inheritance allows one class to inherit another's behaviour by using its methods.\n",
    "\n",
    "- The syntax of the inheritance is NewClass class (ParentClass):.\n",
    "\n",
    "- The methods of the parent class can be accessed directly via the syntax: ParentClass.method(self).\n",
    "\n",
    "- Multiple inheritance allows a class to inherit several Parent Classes.\n",
    "\n",
    "- The syntax of the multiple inheritance is therefore written as follows: New Class class (ParentClass1, ParentClass2, ParentClassN):."
   ]
  },
  {
   "cell_type": "markdown",
   "metadata": {},
   "source": [
    "Another example : "
   ]
  },
  {
   "cell_type": "code",
   "execution_count": 9,
   "metadata": {},
   "outputs": [
    {
     "name": "stdout",
     "output_type": "stream",
     "text": [
      "I am Snoopy and I am 5 Old.\n"
     ]
    }
   ],
   "source": [
    "#parent Class\n",
    "class Animal():\n",
    "    def __init__(self, name, age):\n",
    "        self.name = name\n",
    "        self.age = age \n",
    "    def speak(self):\n",
    "        print(f\"I am {self.name} and I am {self.age} Old.\")\n",
    "    \n",
    "#child class\n",
    "class Dog(Animal):\n",
    "    def __init__(self, name, age):\n",
    "        self.name = name\n",
    "        self.age = age \n",
    "        self.type = \"dog\"\n",
    "\n",
    "#call child class\n",
    "t = Dog(\"Snoopy\", 5)\n",
    "t.speak()"
   ]
  },
  {
   "cell_type": "markdown",
   "metadata": {},
   "source": [
    "### Super() function\n",
    "\n",
    "Python super() function allows us to refer the superclass implicitly. So, Python super makes our task easier and comfortable. While referring the superclass from the subclass, we don’t need to write the name of superclass explicitly. In the following sections, we will discuss python super function."
   ]
  },
  {
   "cell_type": "code",
   "execution_count": 10,
   "metadata": {},
   "outputs": [
    {
     "name": "stdout",
     "output_type": "stream",
     "text": [
      "I am Snoopy and I am 5 Old.\n"
     ]
    }
   ],
   "source": [
    "#parent Class\n",
    "class Animal():\n",
    "    def __init__(self, name, age):\n",
    "        self.name = name\n",
    "        self.age = age\n",
    "    def speak(self):\n",
    "        print(f\"I am {self.name} and I am {self.age} Old.\")\n",
    "    \n",
    "#child class\n",
    "class Dog(Animal):\n",
    "    def __init__(self, name, age):\n",
    "        super().__init__(name,age)\n",
    "        self.type = \"dog\"\n",
    "\n",
    "\n",
    "#call child class\n",
    "t = Dog(\"Snoopy\", 5)\n",
    "t.speak()"
   ]
  },
  {
   "cell_type": "markdown",
   "metadata": {},
   "source": [
    "### Python super function with multilevel inheritance  \n",
    "As we have stated previously that Python super() function allows us to refer the superclass implicitly.\n",
    "\n",
    "But in the case of multi-level inheritances which class will it refer? Well, Python super() will always refer the immediate superclass.\n",
    "\n",
    "Also Python super() function not only can refer the __init__() function but also can call all other function of the superclass. So, in the following example, we will see that."
   ]
  },
  {
   "cell_type": "code",
   "execution_count": 11,
   "metadata": {},
   "outputs": [
    {
     "name": "stdout",
     "output_type": "stream",
     "text": [
      "Initializing: class C\n",
      "Initializing: class B\n",
      "Initializing: class A\n",
      "Printing from class C: 1\n",
      "Printing from class B: 2\n",
      "Printing from class A: 3\n"
     ]
    }
   ],
   "source": [
    "class A:\n",
    "    def __init__(self):\n",
    "        print('Initializing: class A')\n",
    "\n",
    "    def sub_method(self, b):\n",
    "        print('Printing from class A:', b)\n",
    "\n",
    "\n",
    "class B(A):\n",
    "    def __init__(self):\n",
    "        print('Initializing: class B')\n",
    "        super().__init__()\n",
    "\n",
    "    def sub_method(self, b):\n",
    "        print('Printing from class B:', b)\n",
    "        super().sub_method(b + 1)\n",
    "\n",
    "\n",
    "class C(B):\n",
    "    def __init__(self):\n",
    "        print('Initializing: class C')\n",
    "        super().__init__()\n",
    "\n",
    "    def sub_method(self, b):\n",
    "        print('Printing from class C:', b)\n",
    "        super().sub_method(b + 1)\n",
    "\n",
    "\n",
    "if __name__ == '__main__':\n",
    "    c = C()\n",
    "    c.sub_method(1)\n"
   ]
  },
  {
   "cell_type": "markdown",
   "metadata": {},
   "source": [
    "So, from the output we can clearly see that the __init__() function of class C had been called at first, then class B and after that class A. Similar thing happened by calling sub_method() function."
   ]
  },
  {
   "cell_type": "markdown",
   "metadata": {},
   "source": [
    "### Why do we need Python super function\n",
    "If you have previous experience in Java language, then you should know that the base class is also called by a super object there. So, this concept is actually useful for the coders. However, Python also keeps the facility for the programmer to use superclass name to refer them. And, if your program contains multi-level inheritance, then this super() function is helpful for you.\n",
    "\n",
    "We always call the original method implementation? In theory a well designed API should make it always possible but we know that boundary cases exist: the original method may have side effect that you want to avoid and sometimes the API cannot be refactored to avoid them. In those cases you may prefer to skip the call to the original implementation of the method; Python does not make it mandatory, so feel free to walk that path if you think the situation requires it. Be sure to know what you are doing, however, and document why you are completely overwriting the method."
   ]
  },
  {
   "cell_type": "markdown",
   "metadata": {},
   "source": [
    "### Overriding method\n",
    "What is overriding? Overriding is the ability of a class to change the implementation of a method provided by one of its ancestors.\n",
    "\n",
    "Overriding is a very important part of OOP since it is the feature that makes inheritance exploit its full power. Through method overriding a class may \"copy\" another class, avoiding duplicated code, and at the same time enhance or customize part of it. Method overriding is thus a strict part of the inheritance mechanism."
   ]
  },
  {
   "cell_type": "code",
   "execution_count": 12,
   "metadata": {},
   "outputs": [
    {
     "name": "stdout",
     "output_type": "stream",
     "text": [
      "I am A Dog\n"
     ]
    }
   ],
   "source": [
    "#parent Class\n",
    "class Animal():\n",
    "    def __init__(self, name, age):\n",
    "        self.name = name\n",
    "        self.age = age \n",
    "    def speak(self):\n",
    "        print(f\"I am {self.name} and I am {self.age} Old.\")\n",
    "    \n",
    "#child class\n",
    "class Dog(Animal):\n",
    "    def __init__(self, name, age):\n",
    "        super().__init__(name,age)\n",
    "    \n",
    "    def speak(self):    # This will Override  parents class;\n",
    "        print(\"I am A Dog\")\n",
    "\n",
    "#call child class\n",
    "t = Dog(\"tyson\", 5)\n",
    "t.speak()\n",
    "    "
   ]
  },
  {
   "cell_type": "code",
   "execution_count": null,
   "metadata": {},
   "outputs": [],
   "source": []
  }
 ],
 "metadata": {
  "kernelspec": {
   "display_name": "Python 3",
   "language": "python",
   "name": "python3"
  },
  "language_info": {
   "codemirror_mode": {
    "name": "ipython",
    "version": 3
   },
   "file_extension": ".py",
   "mimetype": "text/x-python",
   "name": "python",
   "nbconvert_exporter": "python",
   "pygments_lexer": "ipython3",
   "version": "3.7.4"
  }
 },
 "nbformat": 4,
 "nbformat_minor": 2
}
